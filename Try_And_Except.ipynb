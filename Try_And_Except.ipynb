{
 "cells": [
  {
   "cell_type": "code",
   "execution_count": 1,
   "id": "90355875-a3bf-4afe-b827-5d6be7a43d92",
   "metadata": {},
   "outputs": [
    {
     "name": "stdin",
     "output_type": "stream",
     "text": [
      "Input your score, please:  0.8\n"
     ]
    },
    {
     "name": "stdout",
     "output_type": "stream",
     "text": [
      "B, Good!!\n"
     ]
    }
   ],
   "source": [
    "try:\n",
    "    score = float(input('Input your score, please: '))\n",
    "    if score < 0.0 or score > 1.0:\n",
    "        print(\"Erro: A pontuação deve estar entre 0.0 e 1.0\")\n",
    "    elif score >= 0.9: \n",
    "        print('A, Excellent!!')\n",
    "    elif score >= 0.8: \n",
    "        print('B, Good!!')\n",
    "    elif score >= 0.7: \n",
    "        print('C, Regular!!')\n",
    "    elif score >= 0.6: \n",
    "        print('D, Bad!!')\n",
    "    elif score < 0.6:\n",
    "        print('F, failed!!')\n",
    "except ValueError:\n",
    "    print(\"Error: Please enter a valid numeric score.\")"
   ]
  },
  {
   "cell_type": "code",
   "execution_count": null,
   "id": "1a572451-2574-4a35-9e40-bad01631e2c2",
   "metadata": {},
   "outputs": [],
   "source": []
  }
 ],
 "metadata": {
  "kernelspec": {
   "display_name": "Python 3 (ipykernel)",
   "language": "python",
   "name": "python3"
  },
  "language_info": {
   "codemirror_mode": {
    "name": "ipython",
    "version": 3
   },
   "file_extension": ".py",
   "mimetype": "text/x-python",
   "name": "python",
   "nbconvert_exporter": "python",
   "pygments_lexer": "ipython3",
   "version": "3.12.3"
  }
 },
 "nbformat": 4,
 "nbformat_minor": 5
}
