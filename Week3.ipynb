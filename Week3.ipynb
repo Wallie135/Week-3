{
 "cells": [
  {
   "cell_type": "markdown",
   "id": "51bf0df4-b413-44a1-afc2-4aaa8c0842bc",
   "metadata": {},
   "source": [
    "## Git Termonology\n",
    "\n",
    "- Git - on your own computer\n",
    "- GitHub - in the internet\n",
    "- Commit - save\n",
    "- publish - make the repository available on GitHub\n",
    "- Push - send changes to GitHub\n",
    "- Fetch - check for new updates from GitHub\n",
    "- Pull - get the updates from GitHub"
   ]
  },
  {
   "cell_type": "code",
   "execution_count": null,
   "id": "da064e8b-18e1-4a7a-96fa-5399ef9df49d",
   "metadata": {},
   "outputs": [],
   "source": []
  }
 ],
 "metadata": {
  "kernelspec": {
   "display_name": "Python 3 (ipykernel)",
   "language": "python",
   "name": "python3"
  },
  "language_info": {
   "codemirror_mode": {
    "name": "ipython",
    "version": 3
   },
   "file_extension": ".py",
   "mimetype": "text/x-python",
   "name": "python",
   "nbconvert_exporter": "python",
   "pygments_lexer": "ipython3",
   "version": "3.12.3"
  }
 },
 "nbformat": 4,
 "nbformat_minor": 5
}
